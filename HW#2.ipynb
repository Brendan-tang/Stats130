{
 "cells": [
  {
   "cell_type": "code",
   "execution_count": 2,
   "id": "f1cec6c0",
   "metadata": {},
   "outputs": [],
   "source": [
    "import pandas as pd\n",
    "import numpy as np"
   ]
  },
  {
   "cell_type": "markdown",
   "id": "803edcb4",
   "metadata": {},
   "source": [
    "# 1. "
   ]
  },
  {
   "cell_type": "code",
   "execution_count": 2,
   "id": "953b16f4",
   "metadata": {},
   "outputs": [
    {
     "data": {
      "text/plain": [
       "0.66654"
      ]
     },
     "execution_count": 2,
     "metadata": {},
     "output_type": "execute_result"
    }
   ],
   "source": [
    "import numpy as np\n",
    "all_door_options = (1,2,3)  # tuple\n",
    "my_door_choice = 1  # 1,2,3\n",
    "i_won = 0\n",
    "reps = 100000\n",
    "for i in range(reps):\n",
    "    secret_winning_door = np.random.choice(all_door_options)\n",
    "    all_door_options_list = list(all_door_options)\n",
    "    # take the secret_winning_door, so we don't show it as a \"goat\" losing door\n",
    "    all_door_options_list.remove(secret_winning_door)\n",
    "    try:\n",
    "        # if my_door_choice was secret_winning_door then it's already removed\n",
    "        all_door_options_list.remove(my_door_choice)\n",
    "    except:\n",
    "        pass\n",
    "    # show a \"goat\" losing door and remove it\n",
    "    goat_door_reveal = np.random.choice(all_door_options_list)\n",
    "    all_door_options_list.remove(goat_door_reveal)\n",
    "\n",
    "    # put the secret_winning_door back in if it wasn't our choice\n",
    "    # we previously removed it, so it would be shown as a  \"goat\" losing door\n",
    "    if secret_winning_door != my_door_choice:\n",
    "        all_door_options_list.append(secret_winning_door)\n",
    "    # if secret_winning_door was our choice then all that's left in the list is a \"goat\" losing door\n",
    "    # if secret_winning_door wasn't our choice then it's all that will be left in the list\n",
    "\n",
    "    # swap strategy\n",
    "    my_door_choice = all_door_options_list[0]\n",
    "\n",
    "    if my_door_choice == secret_winning_door:\n",
    "        i_won += 1\n",
    "\n",
    "i_won/reps"
   ]
  },
  {
   "cell_type": "markdown",
   "id": "e7fba836",
   "metadata": {},
   "source": [
    "I think I understand this montehall code. It assigns variables and how many times the computer goes through this code witht he for loop. In the for loop it breaksdown the montehall problem and goes through the decisions and the different scenarios."
   ]
  },
  {
   "cell_type": "markdown",
   "id": "de1ef449",
   "metadata": {},
   "source": [
    "# 2."
   ]
  },
  {
   "cell_type": "code",
   "execution_count": 3,
   "id": "24514515",
   "metadata": {},
   "outputs": [
    {
     "name": "stdout",
     "output_type": "stream",
     "text": [
      "0.66349\n"
     ]
    }
   ],
   "source": [
    "import numpy as np\n",
    "\n",
    "all_door_options = (1, 2, 3)  # Available doors\n",
    "my_door_choice = 1  # Initial choice is always door 1\n",
    "i_won = 0\n",
    "reps = 100000  # Number of simulations\n",
    "\n",
    "for _ in range(reps):\n",
    "    # Randomly select the winning door\n",
    "    secret_winning_door = np.random.choice(all_door_options)\n",
    "    \n",
    "    # Host reveals a goat door that's not the winning door or the contestant's choice\n",
    "    possible_goat_doors = [door for door in all_door_options if door != secret_winning_door and door != my_door_choice]\n",
    "    goat_door_reveal = np.random.choice(possible_goat_doors)\n",
    "    \n",
    "    # Swap to the remaining unopened door\n",
    "    remaining_door = [door for door in all_door_options if door != my_door_choice and door != goat_door_reveal][0]\n",
    "    my_door_choice = remaining_door\n",
    "    \n",
    "    # Check if the swap resulted in a win\n",
    "    if my_door_choice == secret_winning_door:\n",
    "        i_won += 1\n",
    "\n",
    "# Calculate the win rate\n",
    "print(i_won / reps)"
   ]
  },
  {
   "cell_type": "markdown",
   "id": "2499835d",
   "metadata": {},
   "source": [
    "This is the code it gave me for improving the for loop. First thing i noticed was that the output is different. It simplifies the cases, it removes the try and pass lines. I probably prefer the improved version, but it does give a different output."
   ]
  },
  {
   "cell_type": "markdown",
   "id": "da8ed248",
   "metadata": {},
   "source": [
    "# 3."
   ]
  },
  {
   "cell_type": "code",
   "execution_count": 4,
   "id": "f6d4a5c4",
   "metadata": {},
   "outputs": [
    {
     "name": "stdout",
     "output_type": "stream",
     "text": [
      "0.66586\n"
     ]
    }
   ],
   "source": [
    "import numpy as np\n",
    "\n",
    "all_door_options = (1, 2, 3)  # Available doors\n",
    "reps = 100000  # Number of simulations\n",
    "wins = 0\n",
    "\n",
    "for _ in range(reps):\n",
    "    # Randomly select the winning door and the initial choice\n",
    "    secret_winning_door = np.random.choice(all_door_options)\n",
    "    my_door_choice = 1  # Always start with door 1\n",
    "    \n",
    "    # Host reveals a goat door that is neither the contestant's choice nor the winning door\n",
    "    goat_door_reveal = next(door for door in all_door_options if door != secret_winning_door and door != my_door_choice)\n",
    "    \n",
    "    # Swap choice to the remaining door\n",
    "    my_door_choice = next(door for door in all_door_options if door != my_door_choice and door != goat_door_reveal)\n",
    "    \n",
    "    # Check if the swapped choice is the winning door\n",
    "    if my_door_choice == secret_winning_door:\n",
    "        wins += 1\n",
    "\n",
    "# Print the winning rate\n",
    "print(wins / reps)"
   ]
  },
  {
   "cell_type": "markdown",
   "id": "aba2405b",
   "metadata": {},
   "source": [
    "I asked chatgpt to improve the code again and it gave me this code as an answer. I assume this code is more closely related to the original since the values are 0.00001 off."
   ]
  },
  {
   "cell_type": "markdown",
   "id": "1706e632",
   "metadata": {},
   "source": [
    "https://chatgpt.com/share/66ece9f1-4850-8006-bbd6-2a12986288f0"
   ]
  },
  {
   "cell_type": "markdown",
   "id": "12a1769d",
   "metadata": {},
   "source": [
    "## 4."
   ]
  },
  {
   "cell_type": "markdown",
   "id": "6213e5c1",
   "metadata": {},
   "source": [
    "It explained it in a simple way basically it uses the past few words or word to predict and use what word would come next based on how often the sentences of words were used, as it does not understand what the words mean.\n",
    "\n",
    "\"This code is used to create the foundational structure for a Markov Chain model that a chatbot can use to generate responses based on the frequency of word sequences. The model predicts the next word by looking at the probability distribution of the words that have previously followed the current word.\"\n"
   ]
  },
  {
   "cell_type": "markdown",
   "id": "15a4f260",
   "metadata": {},
   "source": [
    "## 5."
   ]
  },
  {
   "cell_type": "markdown",
   "id": "86d73385",
   "metadata": {},
   "source": [
    "5.1 First extention: \"This extension allows the chatbot to consider the context of two words together (bigrams) rather than just one word. This can lead to more coherent and contextually appropriate responses, as it captures more information about word sequences.\""
   ]
  },
  {
   "cell_type": "markdown",
   "id": "8370a98e",
   "metadata": {},
   "source": [
    "5.1 Second extention: \"This extension allows the chatbot to generate responses and dialogue that are contextually accurate based on specific characters, enhancing its ability to simulate conversations in a way that fits the characters’ styles or traits.\""
   ]
  },
  {
   "cell_type": "markdown",
   "id": "1687fde8",
   "metadata": {},
   "source": [
    "https://chatgpt.com/share/66eced45-c004-8006-9961-9f90b8827725"
   ]
  },
  {
   "cell_type": "markdown",
   "id": "fef04a3f",
   "metadata": {},
   "source": [
    "5.3 https://chatgpt.com/share/66ecedcc-d84c-8006-bc24-85160e557ac3"
   ]
  },
  {
   "cell_type": "markdown",
   "id": "20ddb208",
   "metadata": {},
   "source": [
    "## 6."
   ]
  },
  {
   "cell_type": "markdown",
   "id": "90008f43",
   "metadata": {},
   "source": [
    "6.1 The chatbot was ery helpful with understanding both the montehall problem and markovian chatbot code. It understood the markovian extention code right away and it gave details on each line for the montehall problem."
   ]
  },
  {
   "cell_type": "markdown",
   "id": "c7fd52b3",
   "metadata": {},
   "source": [
    "6.2 I think it was very helpful as it explained it right away and it didn't really go off track, stayed focused on the code and my question"
   ]
  },
  {
   "cell_type": "markdown",
   "id": "8c3ea20e",
   "metadata": {},
   "source": [
    "6.3 For this class I think it has been very helpful, it has been able to explain all the code very well and was able to interpret what I was giving it as inputs. It didn't give too long winded answers and was able to stay on track for the most part"
   ]
  },
  {
   "cell_type": "markdown",
   "id": "2f5d8da0",
   "metadata": {},
   "source": [
    "## 7."
   ]
  },
  {
   "cell_type": "markdown",
   "id": "65fcbeca",
   "metadata": {},
   "source": [
    "My experience with chatbots as been pretty positive so far. As far as my perception changing after joining this class goes, I think this class has shown me how helpful the bot is as explaining and interepting my code, as well as generating code. When I used the bot 2 years ago to help with my code I just had it find my syntax errors and generate a little bit. It wasn't as capable as it is now at generating and explainign code, it used to give me code that didn't fit and didn't work in the code I was inputting into it "
   ]
  },
  {
   "cell_type": "markdown",
   "id": "eb360221",
   "metadata": {},
   "source": [
    "## 8."
   ]
  },
  {
   "cell_type": "markdown",
   "id": "b6a6095f",
   "metadata": {},
   "source": [
    "8.3: \"In our conversation, we discussed the importance of key skills in the modern professional world, focusing on learning and adaptability, communication, coding, and statistics/data analysis. We highlighted how these skills create opportunities in various fields. We also explored the challenges of pursuing a career as a statistician or data scientist without coding or data analysis skills. Finally, we identified essential skills for a financial risk analyst, including quantitative skills, analytical skills, knowledge of financial markets, risk management frameworks, programming skills, communication skills, attention to detail, problem-solving skills, financial modeling, and adaptability.\"\n",
    "\n",
    "https://chatgpt.com/share/66ecf132-b6f8-8006-8f91-3abf90d77739 "
   ]
  },
  {
   "cell_type": "markdown",
   "id": "22a94613",
   "metadata": {},
   "source": [
    "8.4  It explained that we talked about how important each skill is in the modern and professional world. And how important coding and data analysis was in thestatistician or data scientist fields.\n",
    "\n",
    "For one taking classes helps to build many of these skills, including the coding. For coding I can also build projects on my own or self-study a new language like SQL as I only know beginner java and python now. I may also try to pursue internships to help build my experience in situations involving risk management and communicating in a professional enviroment.\n",
    "\n",
    "I think it was very helpful in giving necessary skills for the career I gave it. It did only give skills and definitions rather than why or how it would be needed. I would first ask it how important each skill is and why. And maybe ask it to describe the job aswell as scenearios in the job i would encounter"
   ]
  },
  {
   "cell_type": "markdown",
   "id": "f3d412cc",
   "metadata": {},
   "source": [
    "## 9."
   ]
  },
  {
   "cell_type": "markdown",
   "id": "9f39d71f",
   "metadata": {},
   "source": [
    "Yes a little bit"
   ]
  }
 ],
 "metadata": {
  "kernelspec": {
   "display_name": "Python 3 (ipykernel)",
   "language": "python",
   "name": "python3"
  },
  "language_info": {
   "codemirror_mode": {
    "name": "ipython",
    "version": 3
   },
   "file_extension": ".py",
   "mimetype": "text/x-python",
   "name": "python",
   "nbconvert_exporter": "python",
   "pygments_lexer": "ipython3",
   "version": "3.11.6"
  }
 },
 "nbformat": 4,
 "nbformat_minor": 5
}
